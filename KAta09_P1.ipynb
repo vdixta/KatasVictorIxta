{
 "cells": [
  {
   "cell_type": "code",
   "execution_count": 6,
   "metadata": {},
   "outputs": [],
   "source": [
    "def generate_report(tanque1, tanque2, tanque3):\n",
    "    total_average = (tanque1 + tanque2 + tanque3) / 3\n",
    "    return f\"\"\"Fuel Report:\n",
    "    Promedio: {total_average}%\n",
    "    Tanque 1: {tanque1}%\n",
    "    Tanque 2: {tanque2}%\n",
    "    Tanque 3: {    tanque3}% \n",
    "    \"\"\""
   ]
  },
  {
   "cell_type": "code",
   "execution_count": 7,
   "metadata": {},
   "outputs": [
    {
     "name": "stdout",
     "output_type": "stream",
     "text": [
      "Fuel Report:\n",
      "    Promedio: 78.33333333333333%\n",
      "    Tanque 1: 80%\n",
      "    Tanque 2: 70%\n",
      "    Tanque 3: 85% \n",
      "    \n"
     ]
    }
   ],
   "source": [
    "print(generate_report(80, 70, 85))"
   ]
  },
  {
   "cell_type": "code",
   "execution_count": 8,
   "metadata": {},
   "outputs": [
    {
     "data": {
      "text/plain": [
       "82.0"
      ]
     },
     "execution_count": 8,
     "metadata": {},
     "output_type": "execute_result"
    }
   ],
   "source": [
    "def average(values):\n",
    "    total = sum(values)\n",
    "    number_of_items = len(values)\n",
    "    return total / number_of_items\n",
    "\n",
    "average([80, 85, 81]) "
   ]
  },
  {
   "cell_type": "code",
   "execution_count": 9,
   "metadata": {},
   "outputs": [],
   "source": [
    "def generate_report(tanque1, tanque2, tanque3):\n",
    "    return f\"\"\"Fuel Report:\n",
    "    Promedio: {average([tanque1, tanque2, tanque3])}%\n",
    "    Tanque 1: {tanque1}%\n",
    "    Tanque 2: {tanque2}%\n",
    "    Tanque 3: {tanque3}% \n",
    "    \"\"\"\n"
   ]
  },
  {
   "cell_type": "code",
   "execution_count": 10,
   "metadata": {},
   "outputs": [
    {
     "name": "stdout",
     "output_type": "stream",
     "text": [
      "Fuel Report:\n",
      "    Promedio: 78.0%\n",
      "    Tanque 1: 88%\n",
      "    Tanque 2: 76%\n",
      "    Tanque 3: 70% \n",
      "    \n"
     ]
    }
   ],
   "source": [
    "print(generate_report(88, 76, 70))"
   ]
  }
 ],
 "metadata": {
  "interpreter": {
   "hash": "2b8a49a22bc494cab77fa1821de58e8ea658bdfe8fe007c5dd34aaf3d5ad95e0"
  },
  "kernelspec": {
   "display_name": "Python 3.8.12 ('base')",
   "language": "python",
   "name": "python3"
  },
  "language_info": {
   "codemirror_mode": {
    "name": "ipython",
    "version": 3
   },
   "file_extension": ".py",
   "mimetype": "text/x-python",
   "name": "python",
   "nbconvert_exporter": "python",
   "pygments_lexer": "ipython3",
   "version": "3.8.12"
  },
  "orig_nbformat": 4
 },
 "nbformat": 4,
 "nbformat_minor": 2
}
